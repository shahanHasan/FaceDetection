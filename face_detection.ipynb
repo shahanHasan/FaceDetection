{
 "cells": [
  {
   "cell_type": "code",
   "execution_count": 1,
   "metadata": {},
   "outputs": [],
   "source": [
    "import cv2 as cv"
   ]
  },
  {
   "cell_type": "code",
   "execution_count": 2,
   "metadata": {},
   "outputs": [
    {
     "name": "stdout",
     "output_type": "stream",
     "text": [
      "/home/shahan/Desktop/python lesson/Face detection\r\n"
     ]
    }
   ],
   "source": [
    "!pwd"
   ]
  },
  {
   "cell_type": "code",
   "execution_count": 3,
   "metadata": {},
   "outputs": [
    {
     "name": "stdout",
     "output_type": "stream",
     "text": [
      "Original Dimensions :  (2880, 5120, 3)\n",
      "Resized Dimensions :  (576, 1024, 3)\n"
     ]
    }
   ],
   "source": [
    "#reading and showing and image\n",
    "import cv2 as cv\n",
    "import sys\n",
    "img = cv.imread(cv.samples.findFile(\"ori.jpg\"))\n",
    "if img is None:\n",
    "    sys.exit(\"Could not read the image.\")\n",
    "    \n",
    "#resize and image \n",
    "print('Original Dimensions : ',img.shape)\n",
    " \n",
    "scale_percent = 20 # percent of original size\n",
    "width = int(img.shape[1] * scale_percent / 100)\n",
    "height = int(img.shape[0] * scale_percent / 100)\n",
    "dim = (width, height)\n",
    "# resize image\n",
    "resized = cv.resize(img, dim, interpolation = cv.INTER_AREA)\n",
    " \n",
    "print('Resized Dimensions : ',resized.shape)\n",
    "\n",
    "cv.imshow(\"Display window\", resized)\n",
    "k = cv.waitKey(0)\n",
    "if k == ord(\"s\"):\n",
    "    cv.imwrite(\"ori_copy.png\", img)\n",
    "    cv.destroyAllWindows()"
   ]
  },
  {
   "cell_type": "code",
   "execution_count": 4,
   "metadata": {},
   "outputs": [],
   "source": [
    "#Capture video \n",
    "import numpy as np\n",
    "import cv2 as cv\n",
    "cap = cv.VideoCapture(0)\n",
    "if not cap.isOpened():\n",
    "    print(\"Cannot open camera\")\n",
    "    exit()\n",
    "while True:\n",
    "    # Capture frame-by-frame\n",
    "    ret, frame = cap.read()\n",
    "    # if frame is read correctly ret is True\n",
    "    if not ret:\n",
    "        print(\"Can't receive frame (stream end?). Exiting ...\")\n",
    "        break\n",
    "    # Our operations on the frame come here\n",
    "    gray = cv.cvtColor(frame, cv.COLOR_BGR2GRAY)\n",
    "    # Display the resulting frame\n",
    "    cv.imshow('frame', gray)\n",
    "    if cv.waitKey(1) == ord('q'):\n",
    "        break\n",
    "# When everything done, release the capture\n",
    "cap.release()\n",
    "cv.destroyAllWindows()"
   ]
  },
  {
   "cell_type": "code",
   "execution_count": 5,
   "metadata": {},
   "outputs": [],
   "source": [
    "#Save a video \n",
    "import numpy as np\n",
    "import cv2 as cv\n",
    "cap = cv.VideoCapture(0)\n",
    "# Define the codec and create VideoWriter object\n",
    "fourcc = cv.VideoWriter_fourcc(*'XVID')\n",
    "out = cv.VideoWriter('out.mp4', fourcc, 20.0, (640,  480))\n",
    "while cap.isOpened():\n",
    "    ret, frame = cap.read()\n",
    "    if not ret:\n",
    "        print(\"Can't receive frame (stream end?). Exiting ...\")\n",
    "        break\n",
    "    frame = cv.flip(frame, 0)\n",
    "    # write the flipped frame\n",
    "    out.write(frame)\n",
    "    cv.imshow('frame', frame)\n",
    "    if cv.waitKey(1) == ord('q'):\n",
    "        break\n",
    "# Release everything if job is finished\n",
    "cap.release()\n",
    "out.release()\n",
    "cv.destroyAllWindows()"
   ]
  },
  {
   "cell_type": "code",
   "execution_count": 6,
   "metadata": {},
   "outputs": [],
   "source": [
    "#play a video \n",
    "import numpy as np\n",
    "import cv2 as cv\n",
    "cap = cv.VideoCapture('out.mp4')\n",
    "while cap.isOpened():\n",
    "    ret, frame = cap.read()\n",
    "    # if frame is read correctly ret is True\n",
    "    if not ret:\n",
    "        print(\"Can't receive frame (stream end?). Exiting ...\")\n",
    "        break\n",
    "    gray = cv.cvtColor(frame, cv.COLOR_BGR2GRAY)\n",
    "    cv.imshow('frame', gray)\n",
    "    if cv.waitKey(100) == ord('q'):\n",
    "        break\n",
    "cap.release()\n",
    "cv.destroyAllWindows()"
   ]
  },
  {
   "cell_type": "code",
   "execution_count": 7,
   "metadata": {},
   "outputs": [],
   "source": [
    "#drawing shapes\n",
    "import numpy as np\n",
    "import cv2 as cv\n",
    "# Create a black image\n",
    "img = np.zeros((512,512,3), np.uint8)\n",
    "# Draw a diagonal blue line with thickness of 5 px\n",
    "cv.line(img,(0,0),(511,511),(255,0,0),5)\n",
    "#rectangle\n",
    "cv.rectangle(img,(384,0),(510,128),(0,255,0),3)\n",
    "#circle\n",
    "cv.circle(img,(447,63), 63, (0,0,255), -1)\n",
    "#ellipse\n",
    "cv.ellipse(img,(256,256),(100,50),0,0,180,255,-1)\n",
    "#polygon\n",
    "pts = np.array([[10,5],[20,30],[70,20],[50,10]], np.int32)\n",
    "pts = pts.reshape((-1,1,2))\n",
    "cv.polylines(img,[pts],True,(0,255,255))\n",
    "#text\n",
    "font = cv.FONT_HERSHEY_SIMPLEX\n",
    "cv.putText(img,'OpenCV',(10,500), font, 4,(255,255,255),2,cv.LINE_AA)\n",
    "\n",
    "#show\n",
    "cv.imshow(\"Display window\", img)\n",
    "k = cv.waitKey(0)\n",
    "if k == ord(\"s\"):\n",
    "    #cv.imwrite(\"ori_copy.png\", img)\n",
    "    cv.destroyAllWindows()"
   ]
  },
  {
   "cell_type": "code",
   "execution_count": 9,
   "metadata": {},
   "outputs": [
    {
     "name": "stdout",
     "output_type": "stream",
     "text": [
      "640.0\n",
      "480.0\n",
      "640.0\n",
      "480.0\n"
     ]
    }
   ],
   "source": [
    "#Adding text to video \n",
    "#Capture video \n",
    "import numpy as np\n",
    "import cv2 as cv\n",
    "import datetime\n",
    "\n",
    "cap = cv.VideoCapture(0)\n",
    "\n",
    "#width and height of cap window\n",
    "print(cap.get(cv.CAP_PROP_FRAME_WIDTH))\n",
    "print(cap.get(cv.CAP_PROP_FRAME_HEIGHT))\n",
    "\n",
    "cap.set(3 , 640) #ret = cap.set(cv.CAP_PROP_FRAME_WIDTH,320) and \n",
    "cap.set(4 , 480) #ret = cap.set(cv.CAP_PROP_FRAME_HEIGHT,240)\n",
    "\n",
    "print(cap.get(3))\n",
    "print(cap.get(4))\n",
    "if not cap.isOpened():\n",
    "    print(\"Cannot open camera\")\n",
    "    exit()\n",
    "while True:\n",
    "    # Capture frame-by-frame\n",
    "    ret, frame = cap.read()\n",
    "    \n",
    "    # if frame is read correctly ret is True\n",
    "    if not ret:\n",
    "        print(\"Can't receive frame (stream end?). Exiting ...\")\n",
    "        break\n",
    "    # Our operations on the frame come here\n",
    "    #gray = cv.cvtColor(frame, cv.COLOR_BGR2GRAY)\n",
    "    \n",
    "    #Put Text\n",
    "    font = cv.FONT_HERSHEY_SIMPLEX\n",
    "    #text = f\"Width : {cap.get(3)} and Height : {cap.get(4)}\"\n",
    "    time_ = f\"{datetime.datetime.now()}\"\n",
    "    frame = cv.putText(frame, time_, (10,50), font, 1, (0,255,255), 2, cv.LINE_AA)\n",
    "    \n",
    "    # Display the resulting frame\n",
    "    cv.imshow('frame', frame)\n",
    "    if cv.waitKey(1) & 0xff == ord('q'): #& bit wise AND with 0xff (bin : 11111111) ASCII (bytes of interest)\n",
    "        break\n",
    "# When everything done, release the capture\n",
    "cap.release()\n",
    "cv.destroyAllWindows()"
   ]
  },
  {
   "cell_type": "code",
   "execution_count": 19,
   "metadata": {},
   "outputs": [
    {
     "name": "stdout",
     "output_type": "stream",
     "text": [
      "['EVENT_FLAG_ALTKEY', 'EVENT_FLAG_CTRLKEY', 'EVENT_FLAG_LBUTTON', 'EVENT_FLAG_MBUTTON', 'EVENT_FLAG_RBUTTON', 'EVENT_FLAG_SHIFTKEY', 'EVENT_LBUTTONDBLCLK', 'EVENT_LBUTTONDOWN', 'EVENT_LBUTTONUP', 'EVENT_MBUTTONDBLCLK', 'EVENT_MBUTTONDOWN', 'EVENT_MBUTTONUP', 'EVENT_MOUSEHWHEEL', 'EVENT_MOUSEMOVE', 'EVENT_MOUSEWHEEL', 'EVENT_RBUTTONDBLCLK', 'EVENT_RBUTTONDOWN', 'EVENT_RBUTTONUP']\n"
     ]
    }
   ],
   "source": [
    "#mouse events\n",
    "import cv2 as cv\n",
    "import numpy as np\n",
    "\n",
    "#To list all the events in system related to cv\n",
    "events = [i for i in dir(cv) if 'EVENT' in i]\n",
    "print(events)"
   ]
  },
  {
   "cell_type": "code",
   "execution_count": 20,
   "metadata": {},
   "outputs": [
    {
     "name": "stdout",
     "output_type": "stream",
     "text": [
      "106 , 60\n",
      "173 , 120\n",
      "151 , 145\n",
      "109 , 193\n",
      "93 , 225\n",
      "82 , 265\n",
      "77 , 445\n",
      "191 , 468\n",
      "307 , 457\n"
     ]
    }
   ],
   "source": [
    "#mouse events\n",
    "import cv2 as cv\n",
    "import numpy as np\n",
    "\n",
    "# To list all the events in system related to cv\n",
    "# events = [i for i in dir(cv) if 'EVENT' in i]\n",
    "# print(events)\n",
    "\n",
    "#call back function\n",
    "def click_event(event, x, y, flags, params):#get the x and y value of the click on the image, WE Get flag and params\n",
    "        if event == cv.EVENT_LBUTTONDOWN: # on mouse left button down\n",
    "            print(f\"{x} , {y}\")\n",
    "            location = (x,y)\n",
    "            font = cv.FONT_HERSHEY_SIMPLEX\n",
    "            str_xy = f\"{x},{y}\"\n",
    "            cv.putText(img,str_xy,location,font,0.5,(255,255,0),2)\n",
    "            cv.imshow('Image', img)\n",
    "        if event == cv.EVENT_RBUTTONDOWN:\n",
    "            blue = img[x,y,0]\n",
    "            green = img[x,y,1]\n",
    "            red = img[x,y,2]\n",
    "            str_BGR = f\"{blue},{green},{red}\"\n",
    "            location = (x,y)\n",
    "            font = cv.FONT_HERSHEY_SIMPLEX\n",
    "            cv.putText(img,str_BGR,location,font,0.5,(255,255,0),2)\n",
    "            cv.imshow('Image', img)\n",
    "            \n",
    "\n",
    "img = np.zeros((512,512,3),np.uint8)\n",
    "\n",
    "cv.imshow('Image',img)\n",
    "\n",
    "# To call the call back function and bind it with the image window \n",
    "cv.setMouseCallback('Image', click_event)\n",
    "\n",
    "cv.waitKey(0)\n",
    "cv.destroyAllWindows()"
   ]
  },
  {
   "cell_type": "code",
   "execution_count": null,
   "metadata": {},
   "outputs": [],
   "source": []
  }
 ],
 "metadata": {
  "kernelspec": {
   "display_name": "Python 3",
   "language": "python",
   "name": "python3"
  },
  "language_info": {
   "codemirror_mode": {
    "name": "ipython",
    "version": 3
   },
   "file_extension": ".py",
   "mimetype": "text/x-python",
   "name": "python",
   "nbconvert_exporter": "python",
   "pygments_lexer": "ipython3",
   "version": "3.7.7"
  }
 },
 "nbformat": 4,
 "nbformat_minor": 4
}
