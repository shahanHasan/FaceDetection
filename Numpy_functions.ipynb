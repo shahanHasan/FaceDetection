{
 "cells": [
  {
   "cell_type": "code",
   "execution_count": 17,
   "metadata": {},
   "outputs": [
    {
     "name": "stdout",
     "output_type": "stream",
     "text": [
      "<memory at 0x7f9792d1e590>\n"
     ]
    },
    {
     "data": {
      "text/plain": [
       "numpy.ndarray"
      ]
     },
     "execution_count": 17,
     "metadata": {},
     "output_type": "execute_result"
    }
   ],
   "source": [
    "import numpy as np\n",
    "\"\"\"\n",
    "NumPy’s main object is the homogeneous multidimensional array. It is a table of elements (usually numbers), \n",
    "all of the same type, indexed by a tuple of non-negative integers. In NumPy dimensions are called axes.\n",
    "the array has 2 axes. The first axis has a length of 2, the second axis has a length of 3.\n",
    "e.g \n",
    "[[ 1., 0., 0.],\n",
    " [ 0., 1., 2.]]\n",
    "NumPy’s array class is called ndarray. It is also known by the alias array. Note that numpy.array is not the \n",
    "same as the Standard Python Library class array.array, which only handles one-dimensional arrays and offers less \n",
    "functionality. The more important attributes of an ndarray object are:\n",
    "\"\"\"\n",
    "a = np.arange(15).reshape(3,5)#arange an array of 15 random numbers. Reshape (row,column)\n",
    "a.shape #returns shape of the ndarray , (row,column).\n",
    "a.ndim # n dimentions. \n",
    "a.dtype.name # data type of the elements of the array.\n",
    "a.itemsize #the size in bytes of each element of the array.\n",
    "print(a.data) #the buffer containing the actual elements of the array ADDRESS in memory.\n",
    "a.size #number of elements of row * column.\n",
    "type(a)\n",
    "b = np.array([5,6,7])\n",
    "type(b)"
   ]
  },
  {
   "cell_type": "code",
   "execution_count": 21,
   "metadata": {},
   "outputs": [
    {
     "data": {
      "text/plain": [
       "dtype('float64')"
      ]
     },
     "execution_count": 21,
     "metadata": {},
     "output_type": "execute_result"
    }
   ],
   "source": [
    "import numpy as np\n",
    "#Array Creation\n",
    "\"\"\"\n",
    "For example, you can create an array from a regular Python list or tuple using the array function. \n",
    "The type of the resulting array is deduced from the type of the elements in the sequences.\n",
    "\"\"\"\n",
    "a = np.array([2,3,4])\n",
    "a.dtype\n",
    "b = np.array([1.2,3.5,5.1])\n",
    "b.dtype\n",
    "\n"
   ]
  },
  {
   "cell_type": "code",
   "execution_count": null,
   "metadata": {},
   "outputs": [],
   "source": []
  }
 ],
 "metadata": {
  "kernelspec": {
   "display_name": "Python 3",
   "language": "python",
   "name": "python3"
  },
  "language_info": {
   "codemirror_mode": {
    "name": "ipython",
    "version": 3
   },
   "file_extension": ".py",
   "mimetype": "text/x-python",
   "name": "python",
   "nbconvert_exporter": "python",
   "pygments_lexer": "ipython3",
   "version": "3.7.7"
  }
 },
 "nbformat": 4,
 "nbformat_minor": 4
}
